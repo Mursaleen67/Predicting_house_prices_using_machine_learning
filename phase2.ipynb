{
 "cells": [
  {
   "cell_type": "code",
   "execution_count": 26,
   "id": "3cf31a1e-5abb-4365-adce-0974252c1956",
   "metadata": {},
   "outputs": [],
   "source": [
    "#import the pandas and matplotlib\n",
    "import pandas as pd\n",
    "import matplotlib.pyplot as plt"
   ]
  },
  {
   "cell_type": "code",
   "execution_count": 3,
   "id": "6cba01d8-019c-4443-9819-b366dc00575e",
   "metadata": {},
   "outputs": [],
   "source": [
    "#loading the dataset\n",
    "df=pd.read_csv(\"D:\\Housing.csv\")"
   ]
  },
  {
   "cell_type": "code",
   "execution_count": 20,
   "id": "2f457925-1408-402c-911e-ecd80aa93835",
   "metadata": {},
   "outputs": [
    {
     "data": {
      "text/html": [
       "<div>\n",
       "<style scoped>\n",
       "    .dataframe tbody tr th:only-of-type {\n",
       "        vertical-align: middle;\n",
       "    }\n",
       "\n",
       "    .dataframe tbody tr th {\n",
       "        vertical-align: top;\n",
       "    }\n",
       "\n",
       "    .dataframe thead th {\n",
       "        text-align: right;\n",
       "    }\n",
       "</style>\n",
       "<table border=\"1\" class=\"dataframe\">\n",
       "  <thead>\n",
       "    <tr style=\"text-align: right;\">\n",
       "      <th></th>\n",
       "      <th>price</th>\n",
       "      <th>area</th>\n",
       "      <th>bedrooms</th>\n",
       "      <th>bathrooms</th>\n",
       "      <th>stories</th>\n",
       "      <th>mainroad</th>\n",
       "      <th>guestroom</th>\n",
       "      <th>basement</th>\n",
       "      <th>hotwaterheating</th>\n",
       "      <th>airconditioning</th>\n",
       "      <th>parking</th>\n",
       "      <th>prefarea</th>\n",
       "      <th>furnishingstatus</th>\n",
       "    </tr>\n",
       "  </thead>\n",
       "  <tbody>\n",
       "    <tr>\n",
       "      <th>0</th>\n",
       "      <td>13300000</td>\n",
       "      <td>7420</td>\n",
       "      <td>4</td>\n",
       "      <td>2</td>\n",
       "      <td>3</td>\n",
       "      <td>yes</td>\n",
       "      <td>no</td>\n",
       "      <td>no</td>\n",
       "      <td>no</td>\n",
       "      <td>yes</td>\n",
       "      <td>2</td>\n",
       "      <td>yes</td>\n",
       "      <td>furnished</td>\n",
       "    </tr>\n",
       "    <tr>\n",
       "      <th>1</th>\n",
       "      <td>12250000</td>\n",
       "      <td>8960</td>\n",
       "      <td>4</td>\n",
       "      <td>4</td>\n",
       "      <td>4</td>\n",
       "      <td>yes</td>\n",
       "      <td>no</td>\n",
       "      <td>no</td>\n",
       "      <td>no</td>\n",
       "      <td>yes</td>\n",
       "      <td>3</td>\n",
       "      <td>no</td>\n",
       "      <td>furnished</td>\n",
       "    </tr>\n",
       "    <tr>\n",
       "      <th>2</th>\n",
       "      <td>12250000</td>\n",
       "      <td>9960</td>\n",
       "      <td>3</td>\n",
       "      <td>2</td>\n",
       "      <td>2</td>\n",
       "      <td>yes</td>\n",
       "      <td>no</td>\n",
       "      <td>yes</td>\n",
       "      <td>no</td>\n",
       "      <td>no</td>\n",
       "      <td>2</td>\n",
       "      <td>yes</td>\n",
       "      <td>semi-furnished</td>\n",
       "    </tr>\n",
       "    <tr>\n",
       "      <th>3</th>\n",
       "      <td>12215000</td>\n",
       "      <td>7500</td>\n",
       "      <td>4</td>\n",
       "      <td>2</td>\n",
       "      <td>2</td>\n",
       "      <td>yes</td>\n",
       "      <td>no</td>\n",
       "      <td>yes</td>\n",
       "      <td>no</td>\n",
       "      <td>yes</td>\n",
       "      <td>3</td>\n",
       "      <td>yes</td>\n",
       "      <td>furnished</td>\n",
       "    </tr>\n",
       "    <tr>\n",
       "      <th>4</th>\n",
       "      <td>11410000</td>\n",
       "      <td>7420</td>\n",
       "      <td>4</td>\n",
       "      <td>1</td>\n",
       "      <td>2</td>\n",
       "      <td>yes</td>\n",
       "      <td>yes</td>\n",
       "      <td>yes</td>\n",
       "      <td>no</td>\n",
       "      <td>yes</td>\n",
       "      <td>2</td>\n",
       "      <td>no</td>\n",
       "      <td>furnished</td>\n",
       "    </tr>\n",
       "  </tbody>\n",
       "</table>\n",
       "</div>"
      ],
      "text/plain": [
       "      price  area  bedrooms  bathrooms  stories mainroad guestroom basement  \\\n",
       "0  13300000  7420         4          2        3      yes        no       no   \n",
       "1  12250000  8960         4          4        4      yes        no       no   \n",
       "2  12250000  9960         3          2        2      yes        no      yes   \n",
       "3  12215000  7500         4          2        2      yes        no      yes   \n",
       "4  11410000  7420         4          1        2      yes       yes      yes   \n",
       "\n",
       "  hotwaterheating airconditioning  parking prefarea furnishingstatus  \n",
       "0              no             yes        2      yes        furnished  \n",
       "1              no             yes        3       no        furnished  \n",
       "2              no              no        2      yes   semi-furnished  \n",
       "3              no             yes        3      yes        furnished  \n",
       "4              no             yes        2       no        furnished  "
      ]
     },
     "execution_count": 20,
     "metadata": {},
     "output_type": "execute_result"
    }
   ],
   "source": [
    "#The head() method returns the first 5 rows if a number\n",
    "df.head()"
   ]
  },
  {
   "cell_type": "code",
   "execution_count": 21,
   "id": "12b3612b-fe58-4335-be3a-bc5d0a75657f",
   "metadata": {},
   "outputs": [
    {
     "data": {
      "text/html": [
       "<div>\n",
       "<style scoped>\n",
       "    .dataframe tbody tr th:only-of-type {\n",
       "        vertical-align: middle;\n",
       "    }\n",
       "\n",
       "    .dataframe tbody tr th {\n",
       "        vertical-align: top;\n",
       "    }\n",
       "\n",
       "    .dataframe thead th {\n",
       "        text-align: right;\n",
       "    }\n",
       "</style>\n",
       "<table border=\"1\" class=\"dataframe\">\n",
       "  <thead>\n",
       "    <tr style=\"text-align: right;\">\n",
       "      <th></th>\n",
       "      <th>price</th>\n",
       "      <th>area</th>\n",
       "      <th>bedrooms</th>\n",
       "      <th>bathrooms</th>\n",
       "      <th>stories</th>\n",
       "      <th>parking</th>\n",
       "    </tr>\n",
       "  </thead>\n",
       "  <tbody>\n",
       "    <tr>\n",
       "      <th>count</th>\n",
       "      <td>5.450000e+02</td>\n",
       "      <td>545.000000</td>\n",
       "      <td>545.000000</td>\n",
       "      <td>545.000000</td>\n",
       "      <td>545.000000</td>\n",
       "      <td>545.000000</td>\n",
       "    </tr>\n",
       "    <tr>\n",
       "      <th>mean</th>\n",
       "      <td>4.766729e+06</td>\n",
       "      <td>5150.541284</td>\n",
       "      <td>2.965138</td>\n",
       "      <td>1.286239</td>\n",
       "      <td>1.805505</td>\n",
       "      <td>0.693578</td>\n",
       "    </tr>\n",
       "    <tr>\n",
       "      <th>std</th>\n",
       "      <td>1.870440e+06</td>\n",
       "      <td>2170.141023</td>\n",
       "      <td>0.738064</td>\n",
       "      <td>0.502470</td>\n",
       "      <td>0.867492</td>\n",
       "      <td>0.861586</td>\n",
       "    </tr>\n",
       "    <tr>\n",
       "      <th>min</th>\n",
       "      <td>1.750000e+06</td>\n",
       "      <td>1650.000000</td>\n",
       "      <td>1.000000</td>\n",
       "      <td>1.000000</td>\n",
       "      <td>1.000000</td>\n",
       "      <td>0.000000</td>\n",
       "    </tr>\n",
       "    <tr>\n",
       "      <th>25%</th>\n",
       "      <td>3.430000e+06</td>\n",
       "      <td>3600.000000</td>\n",
       "      <td>2.000000</td>\n",
       "      <td>1.000000</td>\n",
       "      <td>1.000000</td>\n",
       "      <td>0.000000</td>\n",
       "    </tr>\n",
       "    <tr>\n",
       "      <th>50%</th>\n",
       "      <td>4.340000e+06</td>\n",
       "      <td>4600.000000</td>\n",
       "      <td>3.000000</td>\n",
       "      <td>1.000000</td>\n",
       "      <td>2.000000</td>\n",
       "      <td>0.000000</td>\n",
       "    </tr>\n",
       "    <tr>\n",
       "      <th>75%</th>\n",
       "      <td>5.740000e+06</td>\n",
       "      <td>6360.000000</td>\n",
       "      <td>3.000000</td>\n",
       "      <td>2.000000</td>\n",
       "      <td>2.000000</td>\n",
       "      <td>1.000000</td>\n",
       "    </tr>\n",
       "    <tr>\n",
       "      <th>max</th>\n",
       "      <td>1.330000e+07</td>\n",
       "      <td>16200.000000</td>\n",
       "      <td>6.000000</td>\n",
       "      <td>4.000000</td>\n",
       "      <td>4.000000</td>\n",
       "      <td>3.000000</td>\n",
       "    </tr>\n",
       "  </tbody>\n",
       "</table>\n",
       "</div>"
      ],
      "text/plain": [
       "              price          area    bedrooms   bathrooms     stories  \\\n",
       "count  5.450000e+02    545.000000  545.000000  545.000000  545.000000   \n",
       "mean   4.766729e+06   5150.541284    2.965138    1.286239    1.805505   \n",
       "std    1.870440e+06   2170.141023    0.738064    0.502470    0.867492   \n",
       "min    1.750000e+06   1650.000000    1.000000    1.000000    1.000000   \n",
       "25%    3.430000e+06   3600.000000    2.000000    1.000000    1.000000   \n",
       "50%    4.340000e+06   4600.000000    3.000000    1.000000    2.000000   \n",
       "75%    5.740000e+06   6360.000000    3.000000    2.000000    2.000000   \n",
       "max    1.330000e+07  16200.000000    6.000000    4.000000    4.000000   \n",
       "\n",
       "          parking  \n",
       "count  545.000000  \n",
       "mean     0.693578  \n",
       "std      0.861586  \n",
       "min      0.000000  \n",
       "25%      0.000000  \n",
       "50%      0.000000  \n",
       "75%      1.000000  \n",
       "max      3.000000  "
      ]
     },
     "execution_count": 21,
     "metadata": {},
     "output_type": "execute_result"
    }
   ],
   "source": [
    "# returns description of the data in the DataFrame\n",
    "#If the DataFrame contains numerical data, the description contains these information for each column:\n",
    "df.describe()"
   ]
  },
  {
   "cell_type": "code",
   "execution_count": 22,
   "id": "501d3300-a58a-4743-b7f2-ee6918fec11e",
   "metadata": {},
   "outputs": [
    {
     "name": "stdout",
     "output_type": "stream",
     "text": [
      "<class 'pandas.core.frame.DataFrame'>\n",
      "RangeIndex: 545 entries, 0 to 544\n",
      "Data columns (total 13 columns):\n",
      " #   Column            Non-Null Count  Dtype \n",
      "---  ------            --------------  ----- \n",
      " 0   price             545 non-null    int64 \n",
      " 1   area              545 non-null    int64 \n",
      " 2   bedrooms          545 non-null    int64 \n",
      " 3   bathrooms         545 non-null    int64 \n",
      " 4   stories           545 non-null    int64 \n",
      " 5   mainroad          545 non-null    object\n",
      " 6   guestroom         545 non-null    object\n",
      " 7   basement          545 non-null    object\n",
      " 8   hotwaterheating   545 non-null    object\n",
      " 9   airconditioning   545 non-null    object\n",
      " 10  parking           545 non-null    int64 \n",
      " 11  prefarea          545 non-null    object\n",
      " 12  furnishingstatus  545 non-null    object\n",
      "dtypes: int64(6), object(7)\n",
      "memory usage: 55.5+ KB\n"
     ]
    }
   ],
   "source": [
    "#summary of the dataframe\n",
    "df.info()"
   ]
  },
  {
   "cell_type": "code",
   "execution_count": 4,
   "id": "48f05c3d-f6fe-48d8-9c89-29e34cde5a38",
   "metadata": {},
   "outputs": [
    {
     "data": {
      "text/plain": [
       "price               0\n",
       "area                0\n",
       "bedrooms            0\n",
       "bathrooms           0\n",
       "stories             0\n",
       "mainroad            0\n",
       "guestroom           0\n",
       "basement            0\n",
       "hotwaterheating     0\n",
       "airconditioning     0\n",
       "parking             0\n",
       "prefarea            0\n",
       "furnishingstatus    0\n",
       "dtype: int64"
      ]
     },
     "execution_count": 4,
     "metadata": {},
     "output_type": "execute_result"
    }
   ],
   "source": [
    "#we can count the number of NaN in each row and column by calling sum() on the result of isnull()\n",
    "df.isnull().sum()"
   ]
  },
  {
   "cell_type": "code",
   "execution_count": 5,
   "id": "f29739e8-2330-40fc-9250-2270a943808f",
   "metadata": {},
   "outputs": [
    {
     "data": {
      "text/plain": [
       "array([13300000, 12250000, 12215000, 11410000, 10850000, 10150000,\n",
       "        9870000,  9800000,  9681000,  9310000,  9240000,  9100000,\n",
       "        8960000,  8890000,  8855000,  8750000,  8680000,  8645000,\n",
       "        8575000,  8540000,  8463000,  8400000,  8295000,  8190000,\n",
       "        8120000,  8080940,  8043000,  7980000,  7962500,  7910000,\n",
       "        7875000,  7840000,  7700000,  7560000,  7525000,  7490000,\n",
       "        7455000,  7420000,  7350000,  7343000,  7245000,  7210000,\n",
       "        7140000,  7070000,  7035000,  7000000,  6930000,  6895000,\n",
       "        6860000,  6790000,  6755000,  6720000,  6685000,  6650000,\n",
       "        6629000,  6615000,  6580000,  6510000,  6475000,  6440000,\n",
       "        6419000,  6405000,  6300000,  6293000,  6265000,  6230000,\n",
       "        6195000,  6160000,  6125000,  6107500,  6090000,  6083000,\n",
       "        6020000,  5950000,  5943000,  5880000,  5873000,  5866000,\n",
       "        5810000,  5803000,  5775000,  5740000,  5652500,  5600000,\n",
       "        5565000,  5530000,  5523000,  5495000,  5460000,  5425000,\n",
       "        5390000,  5383000,  5320000,  5285000,  5250000,  5243000,\n",
       "        5229000,  5215000,  5145000,  5110000,  5075000,  5040000,\n",
       "        5033000,  5005000,  4970000,  4956000,  4935000,  4907000,\n",
       "        4900000,  4893000,  4865000,  4830000,  4795000,  4767000,\n",
       "        4760000,  4753000,  4690000,  4655000,  4620000,  4613000,\n",
       "        4585000,  4550000,  4543000,  4515000,  4480000,  4473000,\n",
       "        4445000,  4410000,  4403000,  4382000,  4375000,  4340000,\n",
       "        4319000,  4305000,  4277000,  4270000,  4235000,  4200000,\n",
       "        4193000,  4165000,  4130000,  4123000,  4098500,  4095000,\n",
       "        4060000,  4025000,  4007500,  3990000,  3920000,  3885000,\n",
       "        3850000,  3836000,  3815000,  3780000,  3773000,  3745000,\n",
       "        3710000,  3703000,  3675000,  3640000,  3633000,  3605000,\n",
       "        3570000,  3535000,  3500000,  3493000,  3465000,  3430000,\n",
       "        3423000,  3395000,  3360000,  3353000,  3332000,  3325000,\n",
       "        3290000,  3255000,  3234000,  3220000,  3150000,  3143000,\n",
       "        3129000,  3118850,  3115000,  3087000,  3080000,  3045000,\n",
       "        3010000,  3003000,  2975000,  2961000,  2940000,  2870000,\n",
       "        2852500,  2835000,  2800000,  2730000,  2695000,  2660000,\n",
       "        2653000,  2604000,  2590000,  2520000,  2485000,  2450000,\n",
       "        2408000,  2380000,  2345000,  2310000,  2275000,  2240000,\n",
       "        2233000,  2135000,  2100000,  1960000,  1890000,  1855000,\n",
       "        1820000,  1767150,  1750000], dtype=int64)"
      ]
     },
     "execution_count": 5,
     "metadata": {},
     "output_type": "execute_result"
    }
   ],
   "source": [
    "#Return unique values of price based on a hash table.\n",
    "df.price.unique()"
   ]
  },
  {
   "cell_type": "code",
   "execution_count": 6,
   "id": "6c0da2ec-a49a-4ce1-a516-599fb44c45a0",
   "metadata": {},
   "outputs": [
    {
     "data": {
      "text/plain": [
       "array([ 7420,  8960,  9960,  7500,  8580, 16200,  8100,  5750, 13200,\n",
       "        6000,  6550,  3500,  7800,  6600,  8500,  4600,  6420,  4320,\n",
       "        7155,  8050,  4560,  8800,  6540,  8875,  7950,  5500,  7475,\n",
       "        7000,  4880,  5960,  6840,  7482,  9000,  6360,  6480,  4300,\n",
       "        7440,  6325,  5150, 11440,  7680,  8880,  6240, 11175,  7700,\n",
       "       12090,  4000,  5020,  4040,  4260,  6500,  5700, 10500,  3760,\n",
       "        8250,  6670,  3960,  7410,  5000,  6750,  4800,  7200,  4100,\n",
       "        6400,  6350,  4500,  5450,  3240,  6615,  8372,  9620,  6800,\n",
       "        8000,  6900,  3700,  7020,  7231,  6254,  7320,  6525, 15600,\n",
       "        7160, 11460,  5828,  5200,  5400,  4640,  5800,  6660,  4700,\n",
       "        5136,  4400,  3300,  3650,  6100,  2817,  7980,  3150,  6210,\n",
       "        6825,  6710,  6450, 10269,  8400,  5300,  3800,  9800,  8520,\n",
       "        6050,  7085,  3180,  3410,  3000, 11410,  5720,  3540,  7600,\n",
       "       10700,  8150,  4410,  7686,  2800,  5948,  4200,  4520,  4095,\n",
       "        4120,  4770,  6300,  2970,  6720,  4646, 12900,  3420,  4995,\n",
       "        4350,  4160,  6040,  6862,  4815,  9166,  6321, 10240,  6440,\n",
       "        5170,  3630,  9667,  3745,  3880,  5680,  2870,  5010,  4510,\n",
       "        3840,  3640,  2550,  5320,  5360,  3520,  4990,  3510,  3450,\n",
       "        9860,  5885,  3162,  3750,  3968,  4900,  2880,  4920,  4950,\n",
       "        3900,  1905,  4075,  4032, 10360,  3400,  2175,  4360,  7770,\n",
       "        6650,  2787,  5040,  5850,  2610,  2953,  2747,  2325,  4079,\n",
       "        2145,  4840,  4080,  4046,  4632,  5985,  6060,  3600,  3680,\n",
       "        5600,  5900,  4992,  4340,  3460,  4050,  7260,  3290,  3816,\n",
       "        8080,  3780,  7152,  3850,  2015,  2176,  3350,  4820,  5830,\n",
       "        2856,  2520,  6930,  3480,  6020,  3584,  3120,  5640,  4280,\n",
       "        3570,  4130,  2850,  2275,  4240,  2135,  3036,  3990,  7424,\n",
       "        7350,  3512,  9500,  5880, 12944,  3060,  3185,  1950,  4785,\n",
       "        4960,  4750,  3720,  3100,  2700,  4775,  2500,  3792,  3930,\n",
       "        4370,  2684,  3986,  1650,  3069,  5495,  2398,  2160,  3090,\n",
       "        2835,  5076,  4352,  3660,  3040,  2640,  2650,  3934,  2000,\n",
       "        2430,  2910,  3210,  3635,  2475,  3264,  1836,  3970,  2400,\n",
       "        3360,  1700,  3649,  2990,  3620], dtype=int64)"
      ]
     },
     "execution_count": 6,
     "metadata": {},
     "output_type": "execute_result"
    }
   ],
   "source": [
    "#Return unique values of area based on a hash table\n",
    "df.area.unique()"
   ]
  },
  {
   "cell_type": "code",
   "execution_count": 8,
   "id": "e3c10110-4450-4596-a634-cf5f757780e2",
   "metadata": {},
   "outputs": [
    {
     "data": {
      "text/plain": [
       "array([4, 3, 5, 2, 6, 1], dtype=int64)"
      ]
     },
     "execution_count": 8,
     "metadata": {},
     "output_type": "execute_result"
    }
   ],
   "source": [
    "#Return unique values of bedrooms based on a hash table\n",
    "df.bedrooms.unique()"
   ]
  },
  {
   "cell_type": "code",
   "execution_count": 9,
   "id": "32e6ac75-3d60-4614-95cf-746a5b41bb57",
   "metadata": {},
   "outputs": [
    {
     "data": {
      "text/plain": [
       "array([2, 4, 1, 3], dtype=int64)"
      ]
     },
     "execution_count": 9,
     "metadata": {},
     "output_type": "execute_result"
    }
   ],
   "source": [
    "#Return unique values of bathrooms based on a hash table\n",
    "df.bathrooms.unique()"
   ]
  },
  {
   "cell_type": "code",
   "execution_count": 10,
   "id": "a2fcc471-dd4c-432c-8f75-10d16839eb9a",
   "metadata": {},
   "outputs": [
    {
     "data": {
      "text/plain": [
       "array([3, 4, 2, 1], dtype=int64)"
      ]
     },
     "execution_count": 10,
     "metadata": {},
     "output_type": "execute_result"
    }
   ],
   "source": [
    "#Return unique values of stories based on a hash table\n",
    "df.stories.unique()"
   ]
  },
  {
   "cell_type": "code",
   "execution_count": 11,
   "id": "8cdea8fd-cc49-4649-8699-bfbdbd432282",
   "metadata": {},
   "outputs": [
    {
     "data": {
      "text/plain": [
       "array(['yes', 'no'], dtype=object)"
      ]
     },
     "execution_count": 11,
     "metadata": {},
     "output_type": "execute_result"
    }
   ],
   "source": [
    "#Return unique values of mainroad based on a hash table\n",
    "df.mainroad.unique()"
   ]
  },
  {
   "cell_type": "code",
   "execution_count": 13,
   "id": "1dfa6516-49b5-4dd9-aa6d-d788bff894f4",
   "metadata": {},
   "outputs": [
    {
     "data": {
      "text/plain": [
       "array(['no', 'yes'], dtype=object)"
      ]
     },
     "execution_count": 13,
     "metadata": {},
     "output_type": "execute_result"
    }
   ],
   "source": [
    "#Return unique values  of guestroom based on a hash table\n",
    "df.guestroom.unique()"
   ]
  },
  {
   "cell_type": "code",
   "execution_count": 14,
   "id": "4692b951-eebd-4099-b6eb-b1023f0b77f3",
   "metadata": {},
   "outputs": [
    {
     "data": {
      "text/plain": [
       "array(['no', 'yes'], dtype=object)"
      ]
     },
     "execution_count": 14,
     "metadata": {},
     "output_type": "execute_result"
    }
   ],
   "source": [
    "#Return unique values of basement based on a hash table#\n",
    "df.basement.unique()"
   ]
  },
  {
   "cell_type": "code",
   "execution_count": 15,
   "id": "f6cf8341-b68a-47ad-ad5b-d4dcc1bfa485",
   "metadata": {},
   "outputs": [
    {
     "data": {
      "text/plain": [
       "array(['no', 'yes'], dtype=object)"
      ]
     },
     "execution_count": 15,
     "metadata": {},
     "output_type": "execute_result"
    }
   ],
   "source": [
    "#Return unique values of hotwaterheating based on a hash table\n",
    "df.hotwaterheating.unique()"
   ]
  },
  {
   "cell_type": "code",
   "execution_count": 16,
   "id": "66e1f9b7-6819-45ce-9b08-09bc19c1b019",
   "metadata": {},
   "outputs": [
    {
     "data": {
      "text/plain": [
       "array(['yes', 'no'], dtype=object)"
      ]
     },
     "execution_count": 16,
     "metadata": {},
     "output_type": "execute_result"
    }
   ],
   "source": [
    "#Return unique values of airconditioning based on a hash table\n",
    "df.airconditioning.unique()"
   ]
  },
  {
   "cell_type": "code",
   "execution_count": 17,
   "id": "627a7b65-166f-404e-a4c9-3860b1a9a82d",
   "metadata": {},
   "outputs": [
    {
     "data": {
      "text/plain": [
       "array([2, 3, 0, 1], dtype=int64)"
      ]
     },
     "execution_count": 17,
     "metadata": {},
     "output_type": "execute_result"
    }
   ],
   "source": [
    "#Return unique values of parking based on a hash table\n",
    "df.parking.unique()"
   ]
  },
  {
   "cell_type": "code",
   "execution_count": 18,
   "id": "c8116c1c-1828-43e8-9287-d42650580840",
   "metadata": {},
   "outputs": [
    {
     "data": {
      "text/plain": [
       "array(['yes', 'no'], dtype=object)"
      ]
     },
     "execution_count": 18,
     "metadata": {},
     "output_type": "execute_result"
    }
   ],
   "source": [
    "#Return unique values of prefarea based on a hash table\n",
    "df.prefarea.unique()"
   ]
  },
  {
   "cell_type": "code",
   "execution_count": 19,
   "id": "b00d7f70-d5b8-4581-b700-9cec63264b3d",
   "metadata": {},
   "outputs": [
    {
     "data": {
      "text/plain": [
       "array(['furnished', 'semi-furnished', 'unfurnished'], dtype=object)"
      ]
     },
     "execution_count": 19,
     "metadata": {},
     "output_type": "execute_result"
    }
   ],
   "source": [
    "#Return unique values of furnishingstatus based on a hash table\n",
    "df.furnishingstatus.unique()"
   ]
  },
  {
   "cell_type": "code",
   "execution_count": 27,
   "id": "efbae6aa-7697-4033-8fb7-0c8ec8ec17d1",
   "metadata": {},
   "outputs": [
    {
     "data": {
      "image/png": "[encoded data removed]",
      "text/plain": [
       "<Figure size 2000x2000 with 4 Axes>"
      ]
     },
     "metadata": {},
     "output_type": "display_data"
    }
   ],
   "source": [
    "#Outlayers\n",
    "plt.figure(figsize=(20,20))\n",
    "plt.subplot(321)\n",
    "plt.boxplot(df[\"price\"])\n",
    "plt.title(\"PRICE BOXPLOT\")\n",
    "\n",
    "plt.subplot(322)\n",
    "plt.boxplot(df[\"area\"])\n",
    "plt.title(\"AREA BOXPLOT\")\n",
    "\n",
    "plt.subplot(323)\n",
    "plt.boxplot(df[\"bedrooms\"])\n",
    "plt.title(\"BEDROOMS BOXPLOT\")\n",
    "\n",
    "plt.subplot(324)\n",
    "plt.boxplot(df[\"bathrooms\"])\n",
    "plt.title(\"BATHROOM BOXPLOT\")\n",
    "plt.show()\n"
   ]
  },
  {
   "cell_type": "code",
   "execution_count": 32,
   "id": "1cda40db-4558-4ed3-afc2-b527032d04b3",
   "metadata": {},
   "outputs": [
    {
     "data": {
      "text/plain": [
       "Text(0.5, 1.0, 'MAINROAD BOXPLOT')"
      ]
     },
     "execution_count": 32,
     "metadata": {},
     "output_type": "execute_result"
    },
    {
     "data": {
      "image/png": "[encoded data removed]",
      "text/plain": [
       "<Figure size 2000x2000 with 2 Axes>"
      ]
     },
     "metadata": {},
     "output_type": "display_data"
    }
   ],
   "source": [
    "plt.figure(figsize=(20,20))\n",
    "plt.subplot(325)\n",
    "plt.boxplot(df[\"stories\"])\n",
    "plt.title(\"STORIES BOXPLOT\")\n",
    "\n",
    "plt.subplot(326)\n",
    "plt.boxplot(df[\"parking\"])\n",
    "plt.title(\"MAINROAD BOXPLOT\")"
   ]
  },
  {
   "cell_type": "code",
   "execution_count": 34,
   "id": "d0ae1cac-28f4-48dd-93c9-1bc169b8ea5f",
   "metadata": {},
   "outputs": [
    {
     "data": {
      "text/plain": [
       "(array([468.,   0.,   0.,   0.,   0.,   0.,   0.,   0.,   0.,  77.]),\n",
       " array([0. , 0.1, 0.2, 0.3, 0.4, 0.5, 0.6, 0.7, 0.8, 0.9, 1. ]),\n",
       " <BarContainer object of 10 artists>)"
      ]
     },
     "execution_count": 34,
     "metadata": {},
     "output_type": "execute_result"
    },
    {
     "data": {
      "image/png": "[encoded data removed]",
      "text/plain": [
       "<Figure size 640x480 with 1 Axes>"
      ]
     },
     "metadata": {},
     "output_type": "display_data"
    }
   ],
   "source": [
    "plt.title(\"MAINROAD\")\n",
    "plt.hist(df['mainroad'])\n"
   ]
  },
  {
   "cell_type": "code",
   "execution_count": 35,
   "id": "1a89cfb9-54e9-4c82-aec8-b100982ac47f",
   "metadata": {},
   "outputs": [
    {
     "data": {
      "image/png": "[encoded data removed]",
      "text/plain": [
       "<Figure size 2000x2000 with 4 Axes>"
      ]
     },
     "metadata": {},
     "output_type": "display_data"
    }
   ],
   "source": [
    "#Outlayers\n",
    "plt.figure(figsize=(20,20))\n",
    "plt.subplot(321)\n",
    "plt.hist(df[\"guestroom\"])\n",
    "plt.title(\"GUESTROOM HISTLOT\")\n",
    "\n",
    "plt.subplot(322)\n",
    "plt.hist(df[\"basement\"])\n",
    "plt.title(\"BASEMENT HISTLOT\")\n",
    "\n",
    "plt.subplot(323)\n",
    "plt.hist(df[\"hotwaterheating\"])\n",
    "plt.title(\"HOTWATER HISTLOT\")\n",
    "\n",
    "plt.subplot(324)\n",
    "plt.hist(df[\"airconditioning\"])\n",
    "plt.title(\"AIRCONDITION HISTLOT\")\n",
    "plt.show()\n"
   ]
  },
  {
   "cell_type": "code",
   "execution_count": 36,
   "id": "c5439cb3-6e9e-4e31-b19d-2613fab7ee5d",
   "metadata": {},
   "outputs": [
    {
     "data": {
      "text/plain": [
       "(array([128.,   0.,   0.,   0.,   0.,   0.,   0.,   0.,   0., 417.]),\n",
       " array([0. , 0.1, 0.2, 0.3, 0.4, 0.5, 0.6, 0.7, 0.8, 0.9, 1. ]),\n",
       " <BarContainer object of 10 artists>)"
      ]
     },
     "execution_count": 36,
     "metadata": {},
     "output_type": "execute_result"
    },
    {
     "data": {
      "image/png": "[encoded data removed]",
      "text/plain": [
       "<Figure size 640x480 with 1 Axes>"
      ]
     },
     "metadata": {},
     "output_type": "display_data"
    }
   ],
   "source": [
    "plt.title(\"PREFAREA\")\n",
    "plt.hist(df['prefarea'])"
   ]
  },
  {
   "cell_type": "code",
   "execution_count": 37,
   "id": "307c6097-fa92-4e82-b11a-17a88d3daee4",
   "metadata": {},
   "outputs": [
    {
     "data": {
      "text/plain": [
       "(array([140.,   0.,   0.,   0.,   0., 227.,   0.,   0.,   0., 178.]),\n",
       " array([0. , 0.2, 0.4, 0.6, 0.8, 1. , 1.2, 1.4, 1.6, 1.8, 2. ]),\n",
       " <BarContainer object of 10 artists>)"
      ]
     },
     "execution_count": 37,
     "metadata": {},
     "output_type": "execute_result"
    },
    {
     "data": {
      "image/png": "[encoded data removed]",
      "text/plain": [
       "<Figure size 640x480 with 1 Axes>"
      ]
     },
     "metadata": {},
     "output_type": "display_data"
    }
   ],
   "source": [
    "plt.title(\"FURNISH\")\n",
    "plt.hist(df['furnishingstatus'])"
   ]
  },
  {
   "cell_type": "code",
   "execution_count": 38,
   "id": "367b02fc-39d0-47d7-9fb1-ac2143219cab",
   "metadata": {},
   "outputs": [
    {
     "data": {
      "text/plain": [
       "price               0\n",
       "area                0\n",
       "bedrooms            0\n",
       "bathrooms           0\n",
       "stories             0\n",
       "mainroad            0\n",
       "guestroom           0\n",
       "basement            0\n",
       "hotwaterheating     0\n",
       "airconditioning     0\n",
       "parking             0\n",
       "prefarea            0\n",
       "furnishingstatus    0\n",
       "dtype: int64"
      ]
     },
     "execution_count": 38,
     "metadata": {},
     "output_type": "execute_result"
    }
   ],
   "source": [
    "#DATA CLEANED SUCCESSFULLY\n",
    "df.isnull().sum()"
   ]
  },
  {
   "cell_type": "code",
   "execution_count": 39,
   "id": "33e2704d-5370-4a2e-9ec1-3ea4b24f1828",
   "metadata": {},
   "outputs": [
    {
     "data": {
      "text/html": [
       "<div>\n",
       "<style scoped>\n",
       "    .dataframe tbody tr th:only-of-type {\n",
       "        vertical-align: middle;\n",
       "    }\n",
       "\n",
       "    .dataframe tbody tr th {\n",
       "        vertical-align: top;\n",
       "    }\n",
       "\n",
       "    .dataframe thead th {\n",
       "        text-align: right;\n",
       "    }\n",
       "</style>\n",
       "<table border=\"1\" class=\"dataframe\">\n",
       "  <thead>\n",
       "    <tr style=\"text-align: right;\">\n",
       "      <th></th>\n",
       "      <th>price</th>\n",
       "      <th>area</th>\n",
       "      <th>bedrooms</th>\n",
       "      <th>bathrooms</th>\n",
       "      <th>stories</th>\n",
       "      <th>parking</th>\n",
       "    </tr>\n",
       "  </thead>\n",
       "  <tbody>\n",
       "    <tr>\n",
       "      <th>count</th>\n",
       "      <td>5.450000e+02</td>\n",
       "      <td>545.000000</td>\n",
       "      <td>545.000000</td>\n",
       "      <td>545.000000</td>\n",
       "      <td>545.000000</td>\n",
       "      <td>545.000000</td>\n",
       "    </tr>\n",
       "    <tr>\n",
       "      <th>mean</th>\n",
       "      <td>4.766729e+06</td>\n",
       "      <td>5150.541284</td>\n",
       "      <td>2.965138</td>\n",
       "      <td>1.286239</td>\n",
       "      <td>1.805505</td>\n",
       "      <td>0.693578</td>\n",
       "    </tr>\n",
       "    <tr>\n",
       "      <th>std</th>\n",
       "      <td>1.870440e+06</td>\n",
       "      <td>2170.141023</td>\n",
       "      <td>0.738064</td>\n",
       "      <td>0.502470</td>\n",
       "      <td>0.867492</td>\n",
       "      <td>0.861586</td>\n",
       "    </tr>\n",
       "    <tr>\n",
       "      <th>min</th>\n",
       "      <td>1.750000e+06</td>\n",
       "      <td>1650.000000</td>\n",
       "      <td>1.000000</td>\n",
       "      <td>1.000000</td>\n",
       "      <td>1.000000</td>\n",
       "      <td>0.000000</td>\n",
       "    </tr>\n",
       "    <tr>\n",
       "      <th>25%</th>\n",
       "      <td>3.430000e+06</td>\n",
       "      <td>3600.000000</td>\n",
       "      <td>2.000000</td>\n",
       "      <td>1.000000</td>\n",
       "      <td>1.000000</td>\n",
       "      <td>0.000000</td>\n",
       "    </tr>\n",
       "    <tr>\n",
       "      <th>50%</th>\n",
       "      <td>4.340000e+06</td>\n",
       "      <td>4600.000000</td>\n",
       "      <td>3.000000</td>\n",
       "      <td>1.000000</td>\n",
       "      <td>2.000000</td>\n",
       "      <td>0.000000</td>\n",
       "    </tr>\n",
       "    <tr>\n",
       "      <th>75%</th>\n",
       "      <td>5.740000e+06</td>\n",
       "      <td>6360.000000</td>\n",
       "      <td>3.000000</td>\n",
       "      <td>2.000000</td>\n",
       "      <td>2.000000</td>\n",
       "      <td>1.000000</td>\n",
       "    </tr>\n",
       "    <tr>\n",
       "      <th>max</th>\n",
       "      <td>1.330000e+07</td>\n",
       "      <td>16200.000000</td>\n",
       "      <td>6.000000</td>\n",
       "      <td>4.000000</td>\n",
       "      <td>4.000000</td>\n",
       "      <td>3.000000</td>\n",
       "    </tr>\n",
       "  </tbody>\n",
       "</table>\n",
       "</div>"
      ],
      "text/plain": [
       "              price          area    bedrooms   bathrooms     stories  \\\n",
       "count  5.450000e+02    545.000000  545.000000  545.000000  545.000000   \n",
       "mean   4.766729e+06   5150.541284    2.965138    1.286239    1.805505   \n",
       "std    1.870440e+06   2170.141023    0.738064    0.502470    0.867492   \n",
       "min    1.750000e+06   1650.000000    1.000000    1.000000    1.000000   \n",
       "25%    3.430000e+06   3600.000000    2.000000    1.000000    1.000000   \n",
       "50%    4.340000e+06   4600.000000    3.000000    1.000000    2.000000   \n",
       "75%    5.740000e+06   6360.000000    3.000000    2.000000    2.000000   \n",
       "max    1.330000e+07  16200.000000    6.000000    4.000000    4.000000   \n",
       "\n",
       "          parking  \n",
       "count  545.000000  \n",
       "mean     0.693578  \n",
       "std      0.861586  \n",
       "min      0.000000  \n",
       "25%      0.000000  \n",
       "50%      0.000000  \n",
       "75%      1.000000  \n",
       "max      3.000000  "
      ]
     },
     "execution_count": 39,
     "metadata": {},
     "output_type": "execute_result"
    }
   ],
   "source": [
    "df.describe()"
   ]
  },
  {
   "cell_type": "code",
   "execution_count": null,
   "id": "6640b9b6-10ef-4a77-8762-2dbbb74e0183",
   "metadata": {},
   "outputs": [],
   "source": [
    "#NOW DOWNLOAD THIS CLAEANED DATA INTO LOCAL STAORAGE TO MODEL THIS DATA"
   ]
  },
  {
   "cell_type": "code",
   "execution_count": 40,
   "id": "9d9783f0-86bf-4afd-9f49-1ca738773133",
   "metadata": {},
   "outputs": [],
   "source": [
    "df.to_csv(\"D:/cleaned data\")"
   ]
  },
  {
   "cell_type": "code",
   "execution_count": null,
   "id": "5cb22bca-d758-4696-9a61-9679fccfbf33",
   "metadata": {},
   "outputs": [],
   "source": [
    "#FINISH"
   ]
  }
 ],
 "metadata": {
  "kernelspec": {
   "display_name": "Python 3 (ipykernel)",
   "language": "python",
   "name": "python3"
  },
  "language_info": {
   "codemirror_mode": {
    "name": "ipython",
    "version": 3
   },
   "file_extension": ".py",
   "mimetype": "text/x-python",
   "name": "python",
   "nbconvert_exporter": "python",
   "pygments_lexer": "ipython3",
   "version": "3.10.5"
  }
 },
 "nbformat": 4,
 "nbformat_minor": 5
}
